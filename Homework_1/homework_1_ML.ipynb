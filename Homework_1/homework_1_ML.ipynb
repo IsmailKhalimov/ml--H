{
  "cells": [
    {
      "cell_type": "markdown",
      "id": "5372eb6b",
      "metadata": {
        "id": "5372eb6b"
      },
      "source": [
        "# Домашняя работа по регуляризации и оптимизации\n",
        "\n",
        "Ниже приводится корпус данных с двумя метками: 1 и -1. К данным применяется линейная модель классификации:\n",
        "\n",
        "$f(x, \\theta) = x_1 \\theta_1 + x_2 \\theta_2 + \\theta_3.$\n",
        "\n",
        "Предлагается подобрать параметры $\\theta$ минимизируя следующую функцию ошибки:\n",
        "\n",
        "$\\mathcal{L}(\\theta) = 0.1 \\|\\theta\\|^2 + \\frac{1}{N}\\sum\\limits_{i=1}^N \\max(0, 1 - y_i f(x_i, \\theta)).$\n",
        "\n",
        "Для оптимизации предлагается использовать метод градиентного спуска с 1000 шагами размера $0.1$ из начальной точки $(1, 1, 0)$."
      ]
    },
    {
      "cell_type": "code",
      "execution_count": 2,
      "id": "84be44bf",
      "metadata": {
        "id": "84be44bf"
      },
      "outputs": [],
      "source": [
        "import numpy as np\n",
        "import yaml"
      ]
    },
    {
      "cell_type": "code",
      "execution_count": 3,
      "id": "8e381337",
      "metadata": {
        "colab": {
          "base_uri": "https://localhost:8080/"
        },
        "id": "8e381337",
        "outputId": "c0fce06e-bf29-43d4-a956-fcf6277ef283"
      },
      "outputs": [
        {
          "output_type": "stream",
          "name": "stdout",
          "text": [
            "Prediction: [ 1.   2.   1.   0.  -0.5]\n",
            "Loss: 0.5\n"
          ]
        }
      ],
      "source": [
        "X = np.array([\n",
        "    [0, 1],\n",
        "    [1, 1],\n",
        "    [1, 0],\n",
        "    [-0.5, 0.5],\n",
        "    [0, -0.5]\n",
        "])\n",
        "\n",
        "y = np.array([1, 1, 1, -1, -1])\n",
        "\n",
        "theta0 = np.array([1.0, 1.0, 0.0])\n",
        "\n",
        "lr = 0.1\n",
        "\n",
        "def f(X, theta):\n",
        "    theta = np.asarray(theta)\n",
        "    return (X * theta[:2]).sum(axis=-1) + theta[2]\n",
        "\n",
        "def loss(X, y, theta):\n",
        "    theta = np.asarray(theta)\n",
        "    norm = (theta ** 2).sum()\n",
        "    deltas = y * f(X, theta)\n",
        "    return 0.1 * norm + np.mean(np.maximum(0, 1 - deltas))\n",
        "\n",
        "print(\"Prediction:\", f(X, theta0))\n",
        "print(\"Loss:\", loss(X, y, theta0))"
      ]
    },
    {
      "cell_type": "markdown",
      "source": [
        "Необходимо вычислить производную функции ошибки (l_diff) и после применить, сказанные в условии шаги: \\\\\n",
        "\n",
        "$  \\frac{d}{d\\theta_k}  {f(x,\\theta)} = x_1 + x_2 + 1 $ \\\\\n",
        "\n",
        "$\\frac{d}{d\\theta_k} {\\mathcal{L}(\\theta)} =  2*0.1*\\theta_k + \\frac{1}{N}\\sum\\limits_{i=1}^N\\begin{cases}\n",
        "  0 & \\text{if  }  (1 - y_i f(x_i, \\theta)) \\leq 0 \\\\\n",
        "  -y_i * \\frac{\\mathrm d}{\\mathrm d \\theta_k}f(x_i, \\theta)& \\text{else}\n",
        "\\end{cases}$\n"
      ],
      "metadata": {
        "id": "EZxBR_NEeu1A"
      },
      "id": "EZxBR_NEeu1A"
    },
    {
      "cell_type": "code",
      "execution_count": 4,
      "id": "ca79f1da",
      "metadata": {
        "id": "ca79f1da"
      },
      "outputs": [],
      "source": [
        "def f_diff(X):    #Изначальная функция\n",
        "    np.array\n",
        "    return np.array([X[:, 0], X[:, 1], [1] * len(X)])\n",
        "    # X[:, 0] = [0, 1, 1, -0.5, 0]    \n",
        "\n",
        "    # X[:, 1] = [1, 1, 0, 0.5, -0.5]\n",
        "    \n",
        "    # [1] * len(X) = [1, 1, 1, 1, 1] \n",
        "\n",
        "def l_diff(X, y, theta):     #Фунция ошибки\n",
        "    theta = np.asarray(theta)\n",
        "    \n",
        "    first_diff = 0.1 * 2 * theta\n",
        "    \n",
        "    S = np.maximum(0, 1 - y * f(X, theta))       \n",
        "    check = (S != 0).astype(int)\n",
        "    S_diff = check * (-1 * y * f_diff(X))\n",
        "    second_diff = np.mean(S_diff, axis = 1)\n",
        "    \n",
        "    return first_diff + second_diff   \n",
        "\n",
        "def step(X, y, theta, lr):         #Функция \"шагов\"\n",
        "    return theta - lr * l_diff(X, y, theta)\n",
        "\n",
        "theta = theta0\n",
        "\n",
        "for i in range(1000):         #Выполнение 1000 шагов\n",
        "    theta = step(X, y, theta, lr)"
      ]
    },
    {
      "cell_type": "code",
      "execution_count": 5,
      "id": "011ca5b7",
      "metadata": {
        "colab": {
          "base_uri": "https://localhost:8080/"
        },
        "id": "011ca5b7",
        "outputId": "f6649ded-c3e0-4667-eb9d-bae1c0aef6ac"
      },
      "outputs": [
        {
          "output_type": "stream",
          "name": "stdout",
          "text": [
            "Prediction: [-0.11008599  1.09487102  0.50991401 -1.00504299 -0.9875215 ]\n",
            "Loss: 0.5502481804822255\n"
          ]
        }
      ],
      "source": [
        "print(\"Prediction:\", f(X, theta))\n",
        "print(\"Loss:\", loss(X, y, theta))\n",
        "\n",
        "with open(\"submission.yaml\", \"w\") as fp:\n",
        "    yaml.safe_dump({\"tasks\": [{\"task1\": {\"answer\": theta.tolist()}}]}, fp)"
      ]
    }
  ],
  "metadata": {
    "accelerator": "GPU",
    "colab": {
      "provenance": []
    },
    "kernelspec": {
      "display_name": "Python 3",
      "language": "python",
      "name": "python3"
    },
    "language_info": {
      "codemirror_mode": {
        "name": "ipython",
        "version": 3
      },
      "file_extension": ".py",
      "mimetype": "text/x-python",
      "name": "python",
      "nbconvert_exporter": "python",
      "pygments_lexer": "ipython3",
      "version": "3.8.9"
    }
  },
  "nbformat": 4,
  "nbformat_minor": 5
}